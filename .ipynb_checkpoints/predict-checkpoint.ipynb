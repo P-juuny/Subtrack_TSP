{
 "cells": [
  {
   "cell_type": "code",
   "execution_count": 3,
   "id": "a037bccd-57ef-49a8-937d-1fac5fb5ae15",
   "metadata": {},
   "outputs": [
    {
     "name": "stderr",
     "output_type": "stream",
     "text": [
      "100%|████████████████████████████████████████| 100/100 [00:00<00:00, 374.76it/s]"
     ]
    },
    {
     "name": "stdout",
     "output_type": "stream",
     "text": [
      "🧠 AI 평균 경로 길이     : 3.8717\n",
      "🧠 Greedy 평균 경로 길이 : 4.5576\n",
      "📊 차이 (Greedy - AI)    : 0.6860  →  AI 우세\n"
     ]
    },
    {
     "name": "stderr",
     "output_type": "stream",
     "text": [
      "\n"
     ]
    }
   ],
   "source": [
    "import torch, random, math, numpy as np\n",
    "from tqdm import tqdm\n",
    "from nets.attention_model import AttentionModel\n",
    "from problems.tsp.problem_tsp import TSP\n",
    "\n",
    "model = AttentionModel(\n",
    "    embedding_dim=128,\n",
    "    hidden_dim=128,\n",
    "    n_encode_layers=3,\n",
    "    n_heads=8,\n",
    "    tanh_clipping=10.0,\n",
    "    normalization=\"batch\",\n",
    "    problem=TSP()\n",
    ")\n",
    "\n",
    "ckpt = torch.load(\"pretrained/tsp_20/epoch-99.pt\", map_location=\"cpu\")\n",
    "model.load_state_dict(ckpt[\"model\"])\n",
    "model.eval()\n",
    "\n",
    "model.set_decode_type(\"greedy\")\n",
    "\n",
    "def euclidean_distance(a, b):\n",
    "    return math.hypot(a[0]-b[0], a[1]-b[1])\n",
    "\n",
    "def calc_distance(path, coords):\n",
    "    d = 0.0\n",
    "    for i in range(len(path)):\n",
    "        d += euclidean_distance(coords[path[i]], coords[path[(i+1) % len(path)]])\n",
    "    return d\n",
    "\n",
    "def greedy_tour(coords):\n",
    "    tour = [0]\n",
    "    unv = set(range(1, len(coords)))\n",
    "    cur = 0\n",
    "    while unv:\n",
    "        nxt = min(unv, key=lambda i: euclidean_distance(coords[cur], coords[i]))\n",
    "        tour.append(nxt)\n",
    "        unv.remove(nxt)\n",
    "        cur = nxt\n",
    "    return tour\n",
    "\n",
    "N = 100\n",
    "num_nodes = 20\n",
    "ai_ds, gr_ds = [], []\n",
    "\n",
    "for _ in tqdm(range(N)):\n",
    "    coords = [[random.random(), random.random()] for _ in range(num_nodes)]\n",
    "    coords_tensor = torch.tensor(coords, dtype=torch.float).unsqueeze(0)\n",
    "\n",
    "    with torch.no_grad():\n",
    "        out = model(coords_tensor, return_pi=True)\n",
    "\n",
    "    if isinstance(out, torch.Tensor):\n",
    "        pi = out\n",
    "    else:\n",
    "        pi = next(x for x in out if isinstance(x, torch.Tensor) and x.dim() == 2)\n",
    "\n",
    "    tour_tensor = pi[0]\n",
    "    tour_list = tour_tensor.long().tolist()\n",
    "    coords_np  = coords_tensor.squeeze(0).tolist()\n",
    "\n",
    "    ai_len  = calc_distance(tour_list, coords_np)\n",
    "    gr_path = greedy_tour(coords_np)\n",
    "    gr_len  = calc_distance(gr_path, coords_np)\n",
    "\n",
    "    ai_ds.append(ai_len)\n",
    "    gr_ds.append(gr_len)\n",
    "\n",
    "mean_ai     = np.mean(ai_ds)\n",
    "mean_gr     = np.mean(gr_ds)\n",
    "diff        = mean_gr - mean_ai\n",
    "\n",
    "print(f\"🧠 AI 평균 경로 길이     : {mean_ai:.4f}\")\n",
    "print(f\"🧠 Greedy 평균 경로 길이 : {mean_gr:.4f}\")\n",
    "print(f\"📊 차이 (Greedy - AI)    : {diff:.4f}  →  {'AI 우세' if diff>0 else 'Greedy 우세'}\")"
   ]
  },
  {
   "cell_type": "code",
   "execution_count": 2,
   "id": "a843609a-9f42-446c-8d26-38f8824f914e",
   "metadata": {},
   "outputs": [
    {
     "name": "stdout",
     "output_type": "stream",
     "text": [
      "Collecting ortools\n",
      "  Downloading ortools-9.12.4544-cp312-cp312-macosx_11_0_arm64.whl.metadata (3.1 kB)\n",
      "Collecting absl-py>=2.0.0 (from ortools)\n",
      "  Downloading absl_py-2.2.2-py3-none-any.whl.metadata (2.6 kB)\n",
      "Requirement already satisfied: numpy>=1.13.3 in /opt/anaconda3/lib/python3.12/site-packages (from ortools) (1.26.4)\n",
      "Requirement already satisfied: pandas>=2.0.0 in /opt/anaconda3/lib/python3.12/site-packages (from ortools) (2.2.2)\n",
      "Collecting protobuf<5.30,>=5.29.3 (from ortools)\n",
      "  Downloading protobuf-5.29.4-cp38-abi3-macosx_10_9_universal2.whl.metadata (592 bytes)\n",
      "Collecting immutabledict>=3.0.0 (from ortools)\n",
      "  Downloading immutabledict-4.2.1-py3-none-any.whl.metadata (3.5 kB)\n",
      "Requirement already satisfied: python-dateutil>=2.8.2 in /opt/anaconda3/lib/python3.12/site-packages (from pandas>=2.0.0->ortools) (2.9.0.post0)\n",
      "Requirement already satisfied: pytz>=2020.1 in /opt/anaconda3/lib/python3.12/site-packages (from pandas>=2.0.0->ortools) (2024.1)\n",
      "Requirement already satisfied: tzdata>=2022.7 in /opt/anaconda3/lib/python3.12/site-packages (from pandas>=2.0.0->ortools) (2023.3)\n",
      "Requirement already satisfied: six>=1.5 in /opt/anaconda3/lib/python3.12/site-packages (from python-dateutil>=2.8.2->pandas>=2.0.0->ortools) (1.16.0)\n",
      "Downloading ortools-9.12.4544-cp312-cp312-macosx_11_0_arm64.whl (18.3 MB)\n",
      "\u001b[2K   \u001b[90m━━━━━━━━━━━━━━━━━━━━━━━━━━━━━━━━━━━━━━━━\u001b[0m \u001b[32m18.3/18.3 MB\u001b[0m \u001b[31m57.5 MB/s\u001b[0m eta \u001b[36m0:00:00\u001b[0ma \u001b[36m0:00:01\u001b[0m\n",
      "\u001b[?25hDownloading absl_py-2.2.2-py3-none-any.whl (135 kB)\n",
      "Downloading immutabledict-4.2.1-py3-none-any.whl (4.7 kB)\n",
      "Downloading protobuf-5.29.4-cp38-abi3-macosx_10_9_universal2.whl (417 kB)\n",
      "Installing collected packages: protobuf, immutabledict, absl-py, ortools\n",
      "  Attempting uninstall: protobuf\n",
      "    Found existing installation: protobuf 4.25.3\n",
      "    Uninstalling protobuf-4.25.3:\n",
      "      Successfully uninstalled protobuf-4.25.3\n",
      "Successfully installed absl-py-2.2.2 immutabledict-4.2.1 ortools-9.12.4544 protobuf-5.29.4\n",
      "Note: you may need to restart the kernel to use updated packages.\n"
     ]
    }
   ],
   "source": [
    "pip install ortools"
   ]
  },
  {
   "cell_type": "code",
   "execution_count": null,
   "id": "9e92d048-30a4-4d04-ba96-ba5a895548f6",
   "metadata": {},
   "outputs": [],
   "source": []
  }
 ],
 "metadata": {
  "kernelspec": {
   "display_name": "Python [conda env:base] *",
   "language": "python",
   "name": "conda-base-py"
  },
  "language_info": {
   "codemirror_mode": {
    "name": "ipython",
    "version": 3
   },
   "file_extension": ".py",
   "mimetype": "text/x-python",
   "name": "python",
   "nbconvert_exporter": "python",
   "pygments_lexer": "ipython3",
   "version": "3.12.7"
  }
 },
 "nbformat": 4,
 "nbformat_minor": 5
}
