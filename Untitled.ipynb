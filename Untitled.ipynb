{
 "cells": [
  {
   "cell_type": "code",
   "execution_count": 1,
   "id": "c739c67c-43a1-4d6d-a359-81c43c93ad58",
   "metadata": {
    "scrolled": true
   },
   "outputs": [
    {
     "name": "stderr",
     "output_type": "stream",
     "text": [
      "Solving TSP for samples: 100%|██████████████████████| 100/100 [16:40<00:00, 10.00s/it]"
     ]
    },
    {
     "name": "stdout",
     "output_type": "stream",
     "text": [
      "\n",
      "샘플 100개 평균 코스트: 434522.76 m\n",
      "최솟값: 378703.00 m, 최댓값: 509333.00 m\n"
     ]
    },
    {
     "name": "stderr",
     "output_type": "stream",
     "text": [
      "\n"
     ]
    }
   ],
   "source": [
    "# eval_avg_or_tools.py\n",
    "\n",
    "import pickle\n",
    "import random\n",
    "from tqdm import tqdm\n",
    "from ortools.constraint_solver import pywrapcp, routing_enums_pb2\n",
    "\n",
    "DATA_PKL = \"data/road_TSP_100_fixed.pkl\"  # 혹은 본인이 쓰는 pkl 파일 경로\n",
    "N_SAMPLES = 100  # 뽑아서 평가할 인스턴스 수\n",
    "\n",
    "def solve_tsp(distance_matrix):\n",
    "    \"\"\"\n",
    "    distance_matrix: 2D 리스트 or numpy array, N×N 대칭 거리 행렬\n",
    "    return: 최적 순회 비용 (meters)\n",
    "    \"\"\"\n",
    "    N = len(distance_matrix)\n",
    "    # 1) 매니저 만들기\n",
    "    manager = pywrapcp.RoutingIndexManager(N, 1, 0)  # depot=0\n",
    "    routing = pywrapcp.RoutingModel(manager)\n",
    "\n",
    "    # 2) 거리 콜백 등록\n",
    "    def dist_callback(i, j):\n",
    "        return int(distance_matrix[manager.IndexToNode(i)][manager.IndexToNode(j)])\n",
    "    transit_callback_idx = routing.RegisterTransitCallback(dist_callback)\n",
    "    routing.SetArcCostEvaluatorOfAllVehicles(transit_callback_idx)\n",
    "\n",
    "    # 3) 검색 파라미터\n",
    "    search_params = pywrapcp.DefaultRoutingSearchParameters()\n",
    "    search_params.first_solution_strategy = (\n",
    "        routing_enums_pb2.FirstSolutionStrategy.PATH_CHEAPEST_ARC)\n",
    "    search_params.local_search_metaheuristic = (\n",
    "        routing_enums_pb2.LocalSearchMetaheuristic.GUIDED_LOCAL_SEARCH)\n",
    "    search_params.time_limit.seconds = 10  # 인스턴스당 10초 까지만 탐색\n",
    "\n",
    "    # 4) 풀기\n",
    "    solution = routing.SolveWithParameters(search_params)\n",
    "    if not solution:\n",
    "        return float('inf')\n",
    "    # 5) 비용 계산\n",
    "    index = routing.Start(0)\n",
    "    total_dist = 0\n",
    "    while not routing.IsEnd(index):\n",
    "        prev = index\n",
    "        index = solution.Value(routing.NextVar(index))\n",
    "        total_dist += routing.GetArcCostForVehicle(prev, index, 0)\n",
    "    return total_dist\n",
    "\n",
    "def main():\n",
    "    # 1) 데이터 로드\n",
    "    with open(DATA_PKL, \"rb\") as f:\n",
    "        dataset = pickle.load(f)\n",
    "\n",
    "    # 2) 무작위 샘플링\n",
    "    idxs = random.sample(range(len(dataset)), N_SAMPLES)\n",
    "\n",
    "    costs = []\n",
    "    for i in tqdm(idxs, desc=\"Solving TSP for samples\"):\n",
    "        dist_mat = dataset[i][\"dist\"]\n",
    "        cost = solve_tsp(dist_mat)\n",
    "        costs.append(cost)\n",
    "\n",
    "    # 3) 결과 출력\n",
    "    avg_cost = sum(costs) / len(costs)\n",
    "    print(f\"\\n샘플 {N_SAMPLES}개 평균 코스트: {avg_cost:.2f} m\")\n",
    "    print(f\"최솟값: {min(costs):.2f} m, 최댓값: {max(costs):.2f} m\")\n",
    "\n",
    "if __name__ == \"__main__\":\n",
    "    main()\n"
   ]
  },
  {
   "cell_type": "code",
   "execution_count": 1,
   "id": "d8d6a11c-eb8d-4d82-9b8c-654b679f07a3",
   "metadata": {},
   "outputs": [
    {
     "name": "stdout",
     "output_type": "stream",
     "text": [
      "CUDA available: False\n",
      "CUDA device count: 0\n"
     ]
    }
   ],
   "source": [
    "import torch\n",
    "print(\"CUDA available:\", torch.cuda.is_available())\n",
    "print(\"CUDA device count:\", torch.cuda.device_count())\n"
   ]
  },
  {
   "cell_type": "code",
   "execution_count": null,
   "id": "2f906a87-70c9-4186-822c-288414fd8d87",
   "metadata": {},
   "outputs": [],
   "source": []
  }
 ],
 "metadata": {
  "kernelspec": {
   "display_name": "Python [conda env:base] *",
   "language": "python",
   "name": "conda-base-py"
  },
  "language_info": {
   "codemirror_mode": {
    "name": "ipython",
    "version": 3
   },
   "file_extension": ".py",
   "mimetype": "text/x-python",
   "name": "python",
   "nbconvert_exporter": "python",
   "pygments_lexer": "ipython3",
   "version": "3.12.7"
  }
 },
 "nbformat": 4,
 "nbformat_minor": 5
}
