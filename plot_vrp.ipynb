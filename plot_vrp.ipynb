{
 "cells": [
  {
   "cell_type": "code",
   "execution_count": 1,
   "metadata": {},
   "outputs": [],
   "source": [
    "import os\n",
    "import numpy as np\n",
    "import torch"
   ]
  },
  {
   "cell_type": "code",
   "execution_count": 2,
   "metadata": {},
   "outputs": [],
   "source": [
    "from torch.utils.data import DataLoader\n",
    "from generate_data import generate_vrp_data\n",
    "from utils import load_model\n",
    "from problems import CVRP"
   ]
  },
  {
   "cell_type": "code",
   "execution_count": 3,
   "metadata": {},
   "outputs": [],
   "source": [
    "%matplotlib inline\n",
    "from matplotlib import pyplot as plt\n",
    "\n",
    "from matplotlib.collections import PatchCollection\n",
    "from matplotlib.patches import Rectangle\n",
    "from matplotlib.lines import Line2D\n",
    "\n",
    "# Code inspired by Google OR Tools plot:\n",
    "# https://github.com/google/or-tools/blob/fb12c5ded7423d524fc6c95656a9bdc290a81d4d/examples/python/cvrptw_plot.py\n",
    "\n",
    "def discrete_cmap(N, base_cmap=None):\n",
    "  \"\"\"\n",
    "    Create an N-bin discrete colormap from the specified input map\n",
    "    \"\"\"\n",
    "  # Note that if base_cmap is a string or None, you can simply do\n",
    "  #    return plt.cm.get_cmap(base_cmap, N)\n",
    "  # The following works for string, None, or a colormap instance:\n",
    "\n",
    "  base = plt.cm.get_cmap(base_cmap)\n",
    "  color_list = base(np.linspace(0, 1, N))\n",
    "  cmap_name = base.name + str(N)\n",
    "  return base.from_list(cmap_name, color_list, N)\n",
    "\n",
    "def plot_vehicle_routes(data, route, ax1, markersize=5, visualize_demands=False, demand_scale=1, round_demand=False):\n",
    "    \"\"\"\n",
    "    Plot the vehicle routes on matplotlib axis ax1.\n",
    "    \"\"\"\n",
    "    \n",
    "    # route is one sequence, separating different routes with 0 (depot)\n",
    "    routes = [r[r!=0] for r in np.split(route.cpu().numpy(), np.where(route==0)[0]) if (r != 0).any()]\n",
    "    depot = data['depot'].cpu().numpy()\n",
    "    locs = data['loc'].cpu().numpy()\n",
    "    demands = data['demand'].cpu().numpy() * demand_scale\n",
    "    capacity = demand_scale # Capacity is always 1\n",
    "    \n",
    "    x_dep, y_dep = depot\n",
    "    ax1.plot(x_dep, y_dep, 'sk', markersize=markersize*4)\n",
    "    ax1.set_xlim(0, 1)\n",
    "    ax1.set_ylim(0, 1)\n",
    "    \n",
    "    legend = ax1.legend(loc='upper center')\n",
    "    \n",
    "    cmap = discrete_cmap(len(routes) + 2, 'nipy_spectral')\n",
    "    dem_rects = []\n",
    "    used_rects = []\n",
    "    cap_rects = []\n",
    "    qvs = []\n",
    "    total_dist = 0\n",
    "    for veh_number, r in enumerate(routes):\n",
    "        color = cmap(len(routes) - veh_number) # Invert to have in rainbow order\n",
    "        \n",
    "        route_demands = demands[r - 1]\n",
    "        coords = locs[r - 1, :]\n",
    "        xs, ys = coords.transpose()\n",
    "\n",
    "        total_route_demand = sum(route_demands)\n",
    "        assert total_route_demand <= capacity\n",
    "        if not visualize_demands:\n",
    "            ax1.plot(xs, ys, 'o', mfc=color, markersize=markersize, markeredgewidth=0.0)\n",
    "        \n",
    "        dist = 0\n",
    "        x_prev, y_prev = x_dep, y_dep\n",
    "        cum_demand = 0\n",
    "        for (x, y), d in zip(coords, route_demands):\n",
    "            dist += np.sqrt((x - x_prev) ** 2 + (y - y_prev) ** 2)\n",
    "            \n",
    "            cap_rects.append(Rectangle((x, y), 0.01, 0.1))\n",
    "            used_rects.append(Rectangle((x, y), 0.01, 0.1 * total_route_demand / capacity))\n",
    "            dem_rects.append(Rectangle((x, y + 0.1 * cum_demand / capacity), 0.01, 0.1 * d / capacity))\n",
    "            \n",
    "            x_prev, y_prev = x, y\n",
    "            cum_demand += d\n",
    "            \n",
    "        dist += np.sqrt((x_dep - x_prev) ** 2 + (y_dep - y_prev) ** 2)\n",
    "        total_dist += dist\n",
    "        qv = ax1.quiver(\n",
    "            xs[:-1],\n",
    "            ys[:-1],\n",
    "            xs[1:] - xs[:-1],\n",
    "            ys[1:] - ys[:-1],\n",
    "            scale_units='xy',\n",
    "            angles='xy',\n",
    "            scale=1,\n",
    "            color=color,\n",
    "            label='R{}, # {}, c {} / {}, d {:.2f}'.format(\n",
    "                veh_number, \n",
    "                len(r), \n",
    "                int(total_route_demand) if round_demand else total_route_demand, \n",
    "                int(capacity) if round_demand else capacity,\n",
    "                dist\n",
    "            )\n",
    "        )\n",
    "        \n",
    "        qvs.append(qv)\n",
    "        \n",
    "    ax1.set_title('{} routes, total distance {:.2f}'.format(len(routes), total_dist))\n",
    "    ax1.legend(handles=qvs)\n",
    "    \n",
    "    pc_cap = PatchCollection(cap_rects, facecolor='whitesmoke', alpha=1.0, edgecolor='lightgray')\n",
    "    pc_used = PatchCollection(used_rects, facecolor='lightgray', alpha=1.0, edgecolor='lightgray')\n",
    "    pc_dem = PatchCollection(dem_rects, facecolor='black', alpha=1.0, edgecolor='black')\n",
    "    \n",
    "    if visualize_demands:\n",
    "        ax1.add_collection(pc_cap)\n",
    "        ax1.add_collection(pc_used)\n",
    "        ax1.add_collection(pc_dem)"
   ]
  },
  {
   "cell_type": "code",
   "execution_count": 4,
   "metadata": {},
   "outputs": [
    {
     "name": "stdout",
     "output_type": "stream",
     "text": [
      "  [*] Loading model from pretrained/cvrp_100/epoch-99.pt\n"
     ]
    }
   ],
   "source": [
    "model, _ = load_model('pretrained/cvrp_100/')\n",
    "torch.manual_seed(1234)\n",
    "dataset = CVRP.make_dataset(size=100, num_samples=10)"
   ]
  },
  {
   "cell_type": "code",
   "execution_count": 7,
   "metadata": {},
   "outputs": [
    {
     "name": "stderr",
     "output_type": "stream",
     "text": [
      "/var/folders/91/v0q2_lnj19qdz0ykx4tpv2gc0000gn/T/ipykernel_50394/1280894284.py:41: UserWarning: No artists with labels found to put in legend.  Note that artists whose label start with an underscore are ignored when legend() is called with no argument.\n",
      "  legend = ax1.legend(loc='upper center')\n",
      "/var/folders/91/v0q2_lnj19qdz0ykx4tpv2gc0000gn/T/ipykernel_50394/1280894284.py:19: MatplotlibDeprecationWarning: The get_cmap function was deprecated in Matplotlib 3.7 and will be removed in 3.11. Use ``matplotlib.colormaps[name]`` or ``matplotlib.colormaps.get_cmap()`` or ``pyplot.get_cmap()`` instead.\n",
      "  base = plt.cm.get_cmap(base_cmap)\n"
     ]
    }
   ],
   "source": [
    "# Need a dataloader to batch instances\n",
    "dataloader = DataLoader(dataset, batch_size=1000)\n",
    "\n",
    "# Make var works for dicts\n",
    "batch = next(iter(dataloader))\n",
    "\n",
    "# Run the model\n",
    "model.eval()\n",
    "model.set_decode_type('greedy')\n",
    "with torch.no_grad():\n",
    "    length, log_p, pi = model(batch, return_pi=True)\n",
    "tours = pi\n",
    "\n",
    "# Plot the results\n",
    "for i, (data, tour) in enumerate(zip(dataset, tours)):\n",
    "    fig, ax = plt.subplots(figsize=(10, 10))\n",
    "    plot_vehicle_routes(data, tour, ax, visualize_demands=False, demand_scale=50, round_demand=True)\n",
    "    # fig.savefig(os.path.join('images', 'cvrp_{}.png'.format(i)))"
   ]
  },
  {
   "cell_type": "code",
   "execution_count": null,
   "metadata": {},
   "outputs": [],
   "source": []
  }
 ],
 "metadata": {
  "kernelspec": {
   "display_name": "Python [conda env:base] *",
   "language": "python",
   "name": "conda-base-py"
  },
  "language_info": {
   "codemirror_mode": {
    "name": "ipython",
    "version": 3
   },
   "file_extension": ".py",
   "mimetype": "text/x-python",
   "name": "python",
   "nbconvert_exporter": "python",
   "pygments_lexer": "ipython3",
   "version": "3.12.7"
  }
 },
 "nbformat": 4,
 "nbformat_minor": 4
}
